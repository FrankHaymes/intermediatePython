{
 "cells": [
  {
   "cell_type": "markdown",
   "metadata": {},
   "source": [
    "# Closures\n",
    "is a record storing a function together with an enviroment: a mapping assocating each free variable of the function with the value or storage location to which the name was bound when the closure was created.\n",
    "\n",
    "Note:  Unlike a regular function, closures allows the function to access those capture variables though the closure's reference to them."
   ]
  },
  {
   "cell_type": "code",
   "execution_count": 1,
   "metadata": {
    "collapsed": true
   },
   "outputs": [],
   "source": [
    "def outer_func():\n",
    "    message = \"Hi\"\n",
    "    def inner_func():\n",
    "        print(message)\n",
    "        \n",
    "    return inner_func\n"
   ]
  },
  {
   "cell_type": "code",
   "execution_count": 3,
   "metadata": {},
   "outputs": [
    {
     "name": "stdout",
     "output_type": "stream",
     "text": [
      "<function outer_func.<locals>.inner_func at 0x0000026E7594FD08>\n",
      "inner_func\n"
     ]
    }
   ],
   "source": [
    "#test\n",
    "myf = outer_func()\n",
    "print(myf)\n",
    "print(myf.__name__)"
   ]
  },
  {
   "cell_type": "code",
   "execution_count": 4,
   "metadata": {},
   "outputs": [
    {
     "name": "stdout",
     "output_type": "stream",
     "text": [
      "Hi\n",
      "Hi\n"
     ]
    }
   ],
   "source": [
    "# execute the function\n",
    "myf()\n",
    "myf()"
   ]
  },
  {
   "cell_type": "code",
   "execution_count": 5,
   "metadata": {
    "collapsed": true
   },
   "outputs": [],
   "source": [
    "def outer_func(msg):\n",
    "    message = msg\n",
    "    def inner_func():\n",
    "        print(message)\n",
    "        \n",
    "    return inner_func"
   ]
  },
  {
   "cell_type": "code",
   "execution_count": 7,
   "metadata": {},
   "outputs": [
    {
     "name": "stdout",
     "output_type": "stream",
     "text": [
      "HI\n",
      "(<cell at 0x0000026E75929EE8: str object at 0x0000026E7486C4C8>,)\n",
      "hola\n",
      "Hi\n"
     ]
    }
   ],
   "source": [
    "myf1 = outer_func(\"HI\")\n",
    "myf2 = outer_func(\"hola\")\n",
    "#run\n",
    "myf1()\n",
    "print(myf1.__closure__)\n",
    "myf2()\n",
    "myf()"
   ]
  },
  {
   "cell_type": "markdown",
   "metadata": {},
   "source": [
    "## Nonlocal Keyword\n",
    "Demo on new name binding for a message variable"
   ]
  },
  {
   "cell_type": "code",
   "execution_count": 13,
   "metadata": {},
   "outputs": [
    {
     "name": "stdout",
     "output_type": "stream",
     "text": [
      "enclosing message:  global\n",
      "enclosing message:  enclosing\n",
      "enclosing message:  local\n",
      "enclosing message:  local\n",
      "enclosing message:  global\n"
     ]
    }
   ],
   "source": [
    "message = \"global\"\n",
    "def enclosing():\n",
    "    message = \"enclosing\"\n",
    "    def local():\n",
    "        # message = \"local\"\n",
    "        #global message\n",
    "        nonlocal message\n",
    "        message = \"local\"\n",
    "        print(\"enclosing message: \", message)\n",
    "        \n",
    "    print(\"enclosing message: \", message)\n",
    "    local()\n",
    "    print(\"enclosing message: \", message)\n",
    "    \n",
    "print(\"enclosing message: \", message)\n",
    "enclosing()\n",
    "print(\"enclosing message: \", message)"
   ]
  },
  {
   "cell_type": "code",
   "execution_count": null,
   "metadata": {
    "collapsed": true
   },
   "outputs": [],
   "source": []
  }
 ],
 "metadata": {
  "kernelspec": {
   "display_name": "Python 3",
   "language": "python",
   "name": "python3"
  },
  "language_info": {
   "codemirror_mode": {
    "name": "ipython",
    "version": 3
   },
   "file_extension": ".py",
   "mimetype": "text/x-python",
   "name": "python",
   "nbconvert_exporter": "python",
   "pygments_lexer": "ipython3",
   "version": "3.5.1"
  }
 },
 "nbformat": 4,
 "nbformat_minor": 2
}
